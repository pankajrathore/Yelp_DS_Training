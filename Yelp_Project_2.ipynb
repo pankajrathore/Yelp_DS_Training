{
 "cells": [
  {
   "cell_type": "markdown",
   "metadata": {},
   "source": [
    "# Project 2 - Part 1"
   ]
  },
  {
   "cell_type": "markdown",
   "metadata": {},
   "source": [
    "## Introduction"
   ]
  },
  {
   "cell_type": "markdown",
   "metadata": {},
   "source": [
    "Part 1 of this project, itself, has two main aspects. The first is to load and filter the business.json file that contains the details of businesses and their review scores. The second is to obtain, and clean, data of the member states of the USA along with their populations. These two parts are interlinked as you will be using the latter to guide you in filtering the former."
   ]
  },
  {
   "cell_type": "markdown",
   "metadata": {},
   "source": [
    "Main skills:\n",
    "* getting and loading data\n",
    "* cleaning/wrangling data\n",
    "* filtering rows and columns\n",
    "* saving the preprocessed data"
   ]
  },
  {
   "cell_type": "markdown",
   "metadata": {},
   "source": [
    "## Business reviews"
   ]
  },
  {
   "cell_type": "markdown",
   "metadata": {},
   "source": [
    "The yelp challenge data can be downloaded from the website [here](https://www.yelp.com/dataset/challenge). Extracting the files, you should have a `business.json` file."
   ]
  },
  {
   "cell_type": "markdown",
   "metadata": {},
   "source": [
    "* How many countries does the yelp website say are in the data?"
   ]
  },
  {
   "cell_type": "markdown",
   "metadata": {},
   "source": [
    "The website says there are 2 countries."
   ]
  },
  {
   "cell_type": "markdown",
   "metadata": {},
   "source": [
    "### Instructions"
   ]
  },
  {
   "cell_type": "markdown",
   "metadata": {},
   "source": [
    "* Read business.json into a pandas DataFrame\n",
    "* How big is the resultant DataFrame? How many rows and columns?\n",
    "* Print the first few rows to get a sense of the contents"
   ]
  },
  {
   "cell_type": "code",
   "execution_count": 1,
   "metadata": {},
   "outputs": [],
   "source": [
    "import pandas as pd"
   ]
  },
  {
   "cell_type": "code",
   "execution_count": 2,
   "metadata": {},
   "outputs": [],
   "source": [
    "business = pd.read_json('./data/business.json', lines=True)"
   ]
  },
  {
   "cell_type": "code",
   "execution_count": 3,
   "metadata": {},
   "outputs": [
    {
     "data": {
      "text/plain": [
       "(192609, 14)"
      ]
     },
     "execution_count": 3,
     "metadata": {},
     "output_type": "execute_result"
    }
   ],
   "source": [
    "business.shape"
   ]
  },
  {
   "cell_type": "code",
   "execution_count": 4,
   "metadata": {},
   "outputs": [
    {
     "data": {
      "text/html": [
       "<div>\n",
       "<style scoped>\n",
       "    .dataframe tbody tr th:only-of-type {\n",
       "        vertical-align: middle;\n",
       "    }\n",
       "\n",
       "    .dataframe tbody tr th {\n",
       "        vertical-align: top;\n",
       "    }\n",
       "\n",
       "    .dataframe thead th {\n",
       "        text-align: right;\n",
       "    }\n",
       "</style>\n",
       "<table border=\"1\" class=\"dataframe\">\n",
       "  <thead>\n",
       "    <tr style=\"text-align: right;\">\n",
       "      <th></th>\n",
       "      <th>address</th>\n",
       "      <th>attributes</th>\n",
       "      <th>business_id</th>\n",
       "      <th>categories</th>\n",
       "      <th>city</th>\n",
       "      <th>hours</th>\n",
       "      <th>is_open</th>\n",
       "      <th>latitude</th>\n",
       "      <th>longitude</th>\n",
       "      <th>name</th>\n",
       "      <th>postal_code</th>\n",
       "      <th>review_count</th>\n",
       "      <th>stars</th>\n",
       "      <th>state</th>\n",
       "    </tr>\n",
       "  </thead>\n",
       "  <tbody>\n",
       "    <tr>\n",
       "      <th>0</th>\n",
       "      <td>2818 E Camino Acequia Drive</td>\n",
       "      <td>{'GoodForKids': 'False'}</td>\n",
       "      <td>1SWheh84yJXfytovILXOAQ</td>\n",
       "      <td>Golf, Active Life</td>\n",
       "      <td>Phoenix</td>\n",
       "      <td>None</td>\n",
       "      <td>0</td>\n",
       "      <td>33.522143</td>\n",
       "      <td>-112.018481</td>\n",
       "      <td>Arizona Biltmore Golf Club</td>\n",
       "      <td>85016</td>\n",
       "      <td>5</td>\n",
       "      <td>3.0</td>\n",
       "      <td>AZ</td>\n",
       "    </tr>\n",
       "    <tr>\n",
       "      <th>1</th>\n",
       "      <td>30 Eglinton Avenue W</td>\n",
       "      <td>{'RestaurantsReservations': 'True', 'GoodForMe...</td>\n",
       "      <td>QXAEGFB4oINsVuTFxEYKFQ</td>\n",
       "      <td>Specialty Food, Restaurants, Dim Sum, Imported...</td>\n",
       "      <td>Mississauga</td>\n",
       "      <td>{'Monday': '9:0-0:0', 'Tuesday': '9:0-0:0', 'W...</td>\n",
       "      <td>1</td>\n",
       "      <td>43.605499</td>\n",
       "      <td>-79.652289</td>\n",
       "      <td>Emerald Chinese Restaurant</td>\n",
       "      <td>L5R 3E7</td>\n",
       "      <td>128</td>\n",
       "      <td>2.5</td>\n",
       "      <td>ON</td>\n",
       "    </tr>\n",
       "    <tr>\n",
       "      <th>2</th>\n",
       "      <td>10110 Johnston Rd, Ste 15</td>\n",
       "      <td>{'GoodForKids': 'True', 'NoiseLevel': 'u'avera...</td>\n",
       "      <td>gnKjwL_1w79qoiV3IC_xQQ</td>\n",
       "      <td>Sushi Bars, Restaurants, Japanese</td>\n",
       "      <td>Charlotte</td>\n",
       "      <td>{'Monday': '17:30-21:30', 'Wednesday': '17:30-...</td>\n",
       "      <td>1</td>\n",
       "      <td>35.092564</td>\n",
       "      <td>-80.859132</td>\n",
       "      <td>Musashi Japanese Restaurant</td>\n",
       "      <td>28210</td>\n",
       "      <td>170</td>\n",
       "      <td>4.0</td>\n",
       "      <td>NC</td>\n",
       "    </tr>\n",
       "    <tr>\n",
       "      <th>3</th>\n",
       "      <td>15655 W Roosevelt St, Ste 237</td>\n",
       "      <td>None</td>\n",
       "      <td>xvX2CttrVhyG2z1dFg_0xw</td>\n",
       "      <td>Insurance, Financial Services</td>\n",
       "      <td>Goodyear</td>\n",
       "      <td>{'Monday': '8:0-17:0', 'Tuesday': '8:0-17:0', ...</td>\n",
       "      <td>1</td>\n",
       "      <td>33.455613</td>\n",
       "      <td>-112.395596</td>\n",
       "      <td>Farmers Insurance - Paul Lorenz</td>\n",
       "      <td>85338</td>\n",
       "      <td>3</td>\n",
       "      <td>5.0</td>\n",
       "      <td>AZ</td>\n",
       "    </tr>\n",
       "    <tr>\n",
       "      <th>4</th>\n",
       "      <td>4209 Stuart Andrew Blvd, Ste F</td>\n",
       "      <td>{'BusinessAcceptsBitcoin': 'False', 'ByAppoint...</td>\n",
       "      <td>HhyxOkGAM07SRYtlQ4wMFQ</td>\n",
       "      <td>Plumbing, Shopping, Local Services, Home Servi...</td>\n",
       "      <td>Charlotte</td>\n",
       "      <td>{'Monday': '7:0-23:0', 'Tuesday': '7:0-23:0', ...</td>\n",
       "      <td>1</td>\n",
       "      <td>35.190012</td>\n",
       "      <td>-80.887223</td>\n",
       "      <td>Queen City Plumbing</td>\n",
       "      <td>28217</td>\n",
       "      <td>4</td>\n",
       "      <td>4.0</td>\n",
       "      <td>NC</td>\n",
       "    </tr>\n",
       "  </tbody>\n",
       "</table>\n",
       "</div>"
      ],
      "text/plain": [
       "                          address  \\\n",
       "0     2818 E Camino Acequia Drive   \n",
       "1            30 Eglinton Avenue W   \n",
       "2       10110 Johnston Rd, Ste 15   \n",
       "3   15655 W Roosevelt St, Ste 237   \n",
       "4  4209 Stuart Andrew Blvd, Ste F   \n",
       "\n",
       "                                          attributes             business_id  \\\n",
       "0                           {'GoodForKids': 'False'}  1SWheh84yJXfytovILXOAQ   \n",
       "1  {'RestaurantsReservations': 'True', 'GoodForMe...  QXAEGFB4oINsVuTFxEYKFQ   \n",
       "2  {'GoodForKids': 'True', 'NoiseLevel': 'u'avera...  gnKjwL_1w79qoiV3IC_xQQ   \n",
       "3                                               None  xvX2CttrVhyG2z1dFg_0xw   \n",
       "4  {'BusinessAcceptsBitcoin': 'False', 'ByAppoint...  HhyxOkGAM07SRYtlQ4wMFQ   \n",
       "\n",
       "                                          categories         city  \\\n",
       "0                                  Golf, Active Life      Phoenix   \n",
       "1  Specialty Food, Restaurants, Dim Sum, Imported...  Mississauga   \n",
       "2                  Sushi Bars, Restaurants, Japanese    Charlotte   \n",
       "3                      Insurance, Financial Services     Goodyear   \n",
       "4  Plumbing, Shopping, Local Services, Home Servi...    Charlotte   \n",
       "\n",
       "                                               hours  is_open   latitude  \\\n",
       "0                                               None        0  33.522143   \n",
       "1  {'Monday': '9:0-0:0', 'Tuesday': '9:0-0:0', 'W...        1  43.605499   \n",
       "2  {'Monday': '17:30-21:30', 'Wednesday': '17:30-...        1  35.092564   \n",
       "3  {'Monday': '8:0-17:0', 'Tuesday': '8:0-17:0', ...        1  33.455613   \n",
       "4  {'Monday': '7:0-23:0', 'Tuesday': '7:0-23:0', ...        1  35.190012   \n",
       "\n",
       "    longitude                             name postal_code  review_count  \\\n",
       "0 -112.018481       Arizona Biltmore Golf Club       85016             5   \n",
       "1  -79.652289       Emerald Chinese Restaurant     L5R 3E7           128   \n",
       "2  -80.859132      Musashi Japanese Restaurant       28210           170   \n",
       "3 -112.395596  Farmers Insurance - Paul Lorenz       85338             3   \n",
       "4  -80.887223              Queen City Plumbing       28217             4   \n",
       "\n",
       "   stars state  \n",
       "0    3.0    AZ  \n",
       "1    2.5    ON  \n",
       "2    4.0    NC  \n",
       "3    5.0    AZ  \n",
       "4    4.0    NC  "
      ]
     },
     "execution_count": 4,
     "metadata": {},
     "output_type": "execute_result"
    }
   ],
   "source": [
    "business.head()"
   ]
  },
  {
   "cell_type": "markdown",
   "metadata": {},
   "source": [
    "What distinct states do we have, and how many reviewed businesses do we have in each?"
   ]
  },
  {
   "cell_type": "code",
   "execution_count": 5,
   "metadata": {},
   "outputs": [
    {
     "data": {
      "text/html": [
       "<div>\n",
       "<style scoped>\n",
       "    .dataframe tbody tr th:only-of-type {\n",
       "        vertical-align: middle;\n",
       "    }\n",
       "\n",
       "    .dataframe tbody tr th {\n",
       "        vertical-align: top;\n",
       "    }\n",
       "\n",
       "    .dataframe thead th {\n",
       "        text-align: right;\n",
       "    }\n",
       "</style>\n",
       "<table border=\"1\" class=\"dataframe\">\n",
       "  <thead>\n",
       "    <tr style=\"text-align: right;\">\n",
       "      <th></th>\n",
       "      <th>state</th>\n",
       "      <th>business_count</th>\n",
       "    </tr>\n",
       "  </thead>\n",
       "  <tbody>\n",
       "    <tr>\n",
       "      <th>0</th>\n",
       "      <td>AZ</td>\n",
       "      <td>56686</td>\n",
       "    </tr>\n",
       "    <tr>\n",
       "      <th>1</th>\n",
       "      <td>NV</td>\n",
       "      <td>36312</td>\n",
       "    </tr>\n",
       "    <tr>\n",
       "      <th>2</th>\n",
       "      <td>ON</td>\n",
       "      <td>33412</td>\n",
       "    </tr>\n",
       "    <tr>\n",
       "      <th>3</th>\n",
       "      <td>NC</td>\n",
       "      <td>14720</td>\n",
       "    </tr>\n",
       "    <tr>\n",
       "      <th>4</th>\n",
       "      <td>OH</td>\n",
       "      <td>14697</td>\n",
       "    </tr>\n",
       "    <tr>\n",
       "      <th>5</th>\n",
       "      <td>PA</td>\n",
       "      <td>11216</td>\n",
       "    </tr>\n",
       "    <tr>\n",
       "      <th>6</th>\n",
       "      <td>QC</td>\n",
       "      <td>9219</td>\n",
       "    </tr>\n",
       "    <tr>\n",
       "      <th>7</th>\n",
       "      <td>AB</td>\n",
       "      <td>8012</td>\n",
       "    </tr>\n",
       "    <tr>\n",
       "      <th>8</th>\n",
       "      <td>WI</td>\n",
       "      <td>5154</td>\n",
       "    </tr>\n",
       "    <tr>\n",
       "      <th>9</th>\n",
       "      <td>IL</td>\n",
       "      <td>1932</td>\n",
       "    </tr>\n",
       "    <tr>\n",
       "      <th>10</th>\n",
       "      <td>SC</td>\n",
       "      <td>1162</td>\n",
       "    </tr>\n",
       "    <tr>\n",
       "      <th>11</th>\n",
       "      <td>NY</td>\n",
       "      <td>22</td>\n",
       "    </tr>\n",
       "    <tr>\n",
       "      <th>12</th>\n",
       "      <td>CA</td>\n",
       "      <td>19</td>\n",
       "    </tr>\n",
       "    <tr>\n",
       "      <th>13</th>\n",
       "      <td>TX</td>\n",
       "      <td>6</td>\n",
       "    </tr>\n",
       "    <tr>\n",
       "      <th>14</th>\n",
       "      <td>XGM</td>\n",
       "      <td>4</td>\n",
       "    </tr>\n",
       "    <tr>\n",
       "      <th>15</th>\n",
       "      <td>FL</td>\n",
       "      <td>4</td>\n",
       "    </tr>\n",
       "    <tr>\n",
       "      <th>16</th>\n",
       "      <td>AL</td>\n",
       "      <td>3</td>\n",
       "    </tr>\n",
       "    <tr>\n",
       "      <th>17</th>\n",
       "      <td>WA</td>\n",
       "      <td>3</td>\n",
       "    </tr>\n",
       "    <tr>\n",
       "      <th>18</th>\n",
       "      <td>CT</td>\n",
       "      <td>3</td>\n",
       "    </tr>\n",
       "    <tr>\n",
       "      <th>19</th>\n",
       "      <td>NE</td>\n",
       "      <td>2</td>\n",
       "    </tr>\n",
       "    <tr>\n",
       "      <th>20</th>\n",
       "      <td>GA</td>\n",
       "      <td>2</td>\n",
       "    </tr>\n",
       "    <tr>\n",
       "      <th>21</th>\n",
       "      <td>VT</td>\n",
       "      <td>2</td>\n",
       "    </tr>\n",
       "    <tr>\n",
       "      <th>22</th>\n",
       "      <td>XWY</td>\n",
       "      <td>2</td>\n",
       "    </tr>\n",
       "    <tr>\n",
       "      <th>23</th>\n",
       "      <td>AK</td>\n",
       "      <td>2</td>\n",
       "    </tr>\n",
       "    <tr>\n",
       "      <th>24</th>\n",
       "      <td>VA</td>\n",
       "      <td>2</td>\n",
       "    </tr>\n",
       "    <tr>\n",
       "      <th>25</th>\n",
       "      <td>DUR</td>\n",
       "      <td>1</td>\n",
       "    </tr>\n",
       "    <tr>\n",
       "      <th>26</th>\n",
       "      <td>XGL</td>\n",
       "      <td>1</td>\n",
       "    </tr>\n",
       "    <tr>\n",
       "      <th>27</th>\n",
       "      <td>NJ</td>\n",
       "      <td>1</td>\n",
       "    </tr>\n",
       "    <tr>\n",
       "      <th>28</th>\n",
       "      <td>BAS</td>\n",
       "      <td>1</td>\n",
       "    </tr>\n",
       "    <tr>\n",
       "      <th>29</th>\n",
       "      <td>AR</td>\n",
       "      <td>1</td>\n",
       "    </tr>\n",
       "    <tr>\n",
       "      <th>30</th>\n",
       "      <td>UT</td>\n",
       "      <td>1</td>\n",
       "    </tr>\n",
       "    <tr>\n",
       "      <th>31</th>\n",
       "      <td>BC</td>\n",
       "      <td>1</td>\n",
       "    </tr>\n",
       "    <tr>\n",
       "      <th>32</th>\n",
       "      <td>TN</td>\n",
       "      <td>1</td>\n",
       "    </tr>\n",
       "    <tr>\n",
       "      <th>33</th>\n",
       "      <td>CON</td>\n",
       "      <td>1</td>\n",
       "    </tr>\n",
       "    <tr>\n",
       "      <th>34</th>\n",
       "      <td>DOW</td>\n",
       "      <td>1</td>\n",
       "    </tr>\n",
       "    <tr>\n",
       "      <th>35</th>\n",
       "      <td>NM</td>\n",
       "      <td>1</td>\n",
       "    </tr>\n",
       "  </tbody>\n",
       "</table>\n",
       "</div>"
      ],
      "text/plain": [
       "   state  business_count\n",
       "0     AZ           56686\n",
       "1     NV           36312\n",
       "2     ON           33412\n",
       "3     NC           14720\n",
       "4     OH           14697\n",
       "5     PA           11216\n",
       "6     QC            9219\n",
       "7     AB            8012\n",
       "8     WI            5154\n",
       "9     IL            1932\n",
       "10    SC            1162\n",
       "11    NY              22\n",
       "12    CA              19\n",
       "13    TX               6\n",
       "14   XGM               4\n",
       "15    FL               4\n",
       "16    AL               3\n",
       "17    WA               3\n",
       "18    CT               3\n",
       "19    NE               2\n",
       "20    GA               2\n",
       "21    VT               2\n",
       "22   XWY               2\n",
       "23    AK               2\n",
       "24    VA               2\n",
       "25   DUR               1\n",
       "26   XGL               1\n",
       "27    NJ               1\n",
       "28   BAS               1\n",
       "29    AR               1\n",
       "30    UT               1\n",
       "31    BC               1\n",
       "32    TN               1\n",
       "33   CON               1\n",
       "34   DOW               1\n",
       "35    NM               1"
      ]
     },
     "execution_count": 5,
     "metadata": {},
     "output_type": "execute_result"
    }
   ],
   "source": [
    "states_counts = business.state.value_counts(ascending=False)\n",
    "states_counts = states_counts.reset_index(name='business_count').rename(columns={'index': 'state'})\n",
    "states_counts"
   ]
  },
  {
   "cell_type": "markdown",
   "metadata": {},
   "source": [
    "As a non-American, even I know that XGM is not an abbreviation for any state in the USA. What are those three letter states? There aren't many of them so let's print out the address, city, latitude, longitude, postal_code, and state for them."
   ]
  },
  {
   "cell_type": "code",
   "execution_count": 6,
   "metadata": {},
   "outputs": [
    {
     "data": {
      "text/plain": [
       "192609"
      ]
     },
     "execution_count": 6,
     "metadata": {},
     "output_type": "execute_result"
    }
   ],
   "source": [
    "len(business.state)"
   ]
  },
  {
   "cell_type": "code",
   "execution_count": 7,
   "metadata": {},
   "outputs": [
    {
     "data": {
      "text/html": [
       "<div>\n",
       "<style scoped>\n",
       "    .dataframe tbody tr th:only-of-type {\n",
       "        vertical-align: middle;\n",
       "    }\n",
       "\n",
       "    .dataframe tbody tr th {\n",
       "        vertical-align: top;\n",
       "    }\n",
       "\n",
       "    .dataframe thead th {\n",
       "        text-align: right;\n",
       "    }\n",
       "</style>\n",
       "<table border=\"1\" class=\"dataframe\">\n",
       "  <thead>\n",
       "    <tr style=\"text-align: right;\">\n",
       "      <th></th>\n",
       "      <th>address</th>\n",
       "      <th>city</th>\n",
       "      <th>latitude</th>\n",
       "      <th>longitude</th>\n",
       "      <th>postal_code</th>\n",
       "      <th>state</th>\n",
       "    </tr>\n",
       "  </thead>\n",
       "  <tbody>\n",
       "    <tr>\n",
       "      <th>27744</th>\n",
       "      <td>8 York St</td>\n",
       "      <td>Bath</td>\n",
       "      <td>43.640646</td>\n",
       "      <td>-79.380939</td>\n",
       "      <td>BA1 1NG</td>\n",
       "      <td>BAS</td>\n",
       "    </tr>\n",
       "    <tr>\n",
       "      <th>33265</th>\n",
       "      <td>The Old Sorting Office, 12 Hayfield Street</td>\n",
       "      <td>Sale</td>\n",
       "      <td>42.996059</td>\n",
       "      <td>-89.568889</td>\n",
       "      <td>M33 7XW</td>\n",
       "      <td>XGM</td>\n",
       "    </tr>\n",
       "    <tr>\n",
       "      <th>35255</th>\n",
       "      <td></td>\n",
       "      <td>Bury</td>\n",
       "      <td>42.996059</td>\n",
       "      <td>-89.568889</td>\n",
       "      <td>BL8 4DR</td>\n",
       "      <td>XGM</td>\n",
       "    </tr>\n",
       "    <tr>\n",
       "      <th>39022</th>\n",
       "      <td>Gorebrook Works, Pinkbank Lane</td>\n",
       "      <td>Manchester</td>\n",
       "      <td>42.996059</td>\n",
       "      <td>-89.568889</td>\n",
       "      <td>M12 5GH</td>\n",
       "      <td>XGM</td>\n",
       "    </tr>\n",
       "    <tr>\n",
       "      <th>54920</th>\n",
       "      <td>37 Monk Bridge Road</td>\n",
       "      <td>Leeds</td>\n",
       "      <td>45.456999</td>\n",
       "      <td>-73.595250</td>\n",
       "      <td>LS6 4EP</td>\n",
       "      <td>XWY</td>\n",
       "    </tr>\n",
       "    <tr>\n",
       "      <th>58669</th>\n",
       "      <td>The Cove, Coverack Helston</td>\n",
       "      <td>Church Cove</td>\n",
       "      <td>35.532021</td>\n",
       "      <td>-80.851682</td>\n",
       "      <td>TR12 6SX</td>\n",
       "      <td>CON</td>\n",
       "    </tr>\n",
       "    <tr>\n",
       "      <th>127476</th>\n",
       "      <td>1136 Center Street, Suite 442</td>\n",
       "      <td>Thornhill</td>\n",
       "      <td>43.808563</td>\n",
       "      <td>-79.463806</td>\n",
       "      <td>L4J 3M8</td>\n",
       "      <td>DUR</td>\n",
       "    </tr>\n",
       "    <tr>\n",
       "      <th>133170</th>\n",
       "      <td>61 Queen Street</td>\n",
       "      <td>Leeds</td>\n",
       "      <td>43.652821</td>\n",
       "      <td>-79.376345</td>\n",
       "      <td>LS27 8EB</td>\n",
       "      <td>XWY</td>\n",
       "    </tr>\n",
       "    <tr>\n",
       "      <th>144601</th>\n",
       "      <td></td>\n",
       "      <td>Oldham</td>\n",
       "      <td>42.996059</td>\n",
       "      <td>-89.568889</td>\n",
       "      <td>OL2 6PX</td>\n",
       "      <td>XGM</td>\n",
       "    </tr>\n",
       "    <tr>\n",
       "      <th>179148</th>\n",
       "      <td>110 Islington High Street</td>\n",
       "      <td>London</td>\n",
       "      <td>43.645355</td>\n",
       "      <td>-79.524467</td>\n",
       "      <td>N1 8EG</td>\n",
       "      <td>XGL</td>\n",
       "    </tr>\n",
       "    <tr>\n",
       "      <th>188285</th>\n",
       "      <td>Odyssey Arena, 2 Queens Quay</td>\n",
       "      <td>Down</td>\n",
       "      <td>43.641658</td>\n",
       "      <td>-79.376030</td>\n",
       "      <td>BT33 0</td>\n",
       "      <td>DOW</td>\n",
       "    </tr>\n",
       "  </tbody>\n",
       "</table>\n",
       "</div>"
      ],
      "text/plain": [
       "                                           address         city   latitude  \\\n",
       "27744                                    8 York St         Bath  43.640646   \n",
       "33265   The Old Sorting Office, 12 Hayfield Street         Sale  42.996059   \n",
       "35255                                                      Bury  42.996059   \n",
       "39022               Gorebrook Works, Pinkbank Lane   Manchester  42.996059   \n",
       "54920                          37 Monk Bridge Road        Leeds  45.456999   \n",
       "58669                   The Cove, Coverack Helston  Church Cove  35.532021   \n",
       "127476               1136 Center Street, Suite 442    Thornhill  43.808563   \n",
       "133170                             61 Queen Street        Leeds  43.652821   \n",
       "144601                                                   Oldham  42.996059   \n",
       "179148                   110 Islington High Street       London  43.645355   \n",
       "188285                Odyssey Arena, 2 Queens Quay         Down  43.641658   \n",
       "\n",
       "        longitude postal_code state  \n",
       "27744  -79.380939     BA1 1NG   BAS  \n",
       "33265  -89.568889     M33 7XW   XGM  \n",
       "35255  -89.568889     BL8 4DR   XGM  \n",
       "39022  -89.568889     M12 5GH   XGM  \n",
       "54920  -73.595250     LS6 4EP   XWY  \n",
       "58669  -80.851682    TR12 6SX   CON  \n",
       "127476 -79.463806     L4J 3M8   DUR  \n",
       "133170 -79.376345    LS27 8EB   XWY  \n",
       "144601 -89.568889     OL2 6PX   XGM  \n",
       "179148 -79.524467      N1 8EG   XGL  \n",
       "188285 -79.376030      BT33 0   DOW  "
      ]
     },
     "execution_count": 7,
     "metadata": {},
     "output_type": "execute_result"
    }
   ],
   "source": [
    "business.loc[business.state.apply(len) == 3, ['address', 'city', 'latitude', 'longitude', 'postal_code', 'state']]"
   ]
  },
  {
   "cell_type": "markdown",
   "metadata": {},
   "source": [
    "Okay, clearly these are in the UK. We won't be needing those. But what of the two-letter states? Are they all valid for USA? What we really need is a list of the abbreviations of the states. We also think that the populations of the states will be useful. Let's find that data next."
   ]
  },
  {
   "cell_type": "markdown",
   "metadata": {},
   "source": [
    "## Abbreviations and populations of USA member states"
   ]
  },
  {
   "cell_type": "markdown",
   "metadata": {},
   "source": [
    "The details we want can be found in a table in [this page](https://simple.wikipedia.org/wiki/List_of_U.S._states) on wikipedia."
   ]
  },
  {
   "cell_type": "markdown",
   "metadata": {},
   "source": [
    "* Read in the table\n",
    "* Inspect it - what do you start with?\n",
    "* Produce a DataFrame with two columns: 'state' (abbreviation) and 'population'\n",
    "* Check you have the expected number of rows (states)"
   ]
  },
  {
   "cell_type": "code",
   "execution_count": 8,
   "metadata": {},
   "outputs": [],
   "source": [
    "usa_states = pd.read_html('https://simple.wikipedia.org/wiki/List_of_U.S._states')"
   ]
  },
  {
   "cell_type": "code",
   "execution_count": 9,
   "metadata": {},
   "outputs": [
    {
     "data": {
      "text/plain": [
       "list"
      ]
     },
     "execution_count": 9,
     "metadata": {},
     "output_type": "execute_result"
    }
   ],
   "source": [
    "type(usa_states)"
   ]
  },
  {
   "cell_type": "code",
   "execution_count": 10,
   "metadata": {},
   "outputs": [
    {
     "data": {
      "text/plain": [
       "1"
      ]
     },
     "execution_count": 10,
     "metadata": {},
     "output_type": "execute_result"
    }
   ],
   "source": [
    "len(usa_states)"
   ]
  },
  {
   "cell_type": "code",
   "execution_count": 11,
   "metadata": {},
   "outputs": [
    {
     "data": {
      "text/html": [
       "<div>\n",
       "<style scoped>\n",
       "    .dataframe tbody tr th:only-of-type {\n",
       "        vertical-align: middle;\n",
       "    }\n",
       "\n",
       "    .dataframe tbody tr th {\n",
       "        vertical-align: top;\n",
       "    }\n",
       "\n",
       "    .dataframe thead th {\n",
       "        text-align: right;\n",
       "    }\n",
       "</style>\n",
       "<table border=\"1\" class=\"dataframe\">\n",
       "  <thead>\n",
       "    <tr style=\"text-align: right;\">\n",
       "      <th></th>\n",
       "      <th>0</th>\n",
       "      <th>1</th>\n",
       "      <th>2</th>\n",
       "      <th>3</th>\n",
       "      <th>4</th>\n",
       "      <th>5</th>\n",
       "      <th>6</th>\n",
       "      <th>7</th>\n",
       "      <th>8</th>\n",
       "      <th>9</th>\n",
       "      <th>10</th>\n",
       "      <th>11</th>\n",
       "      <th>12</th>\n",
       "    </tr>\n",
       "  </thead>\n",
       "  <tbody>\n",
       "    <tr>\n",
       "      <th>0</th>\n",
       "      <td>Name &amp;</td>\n",
       "      <td>Abbr</td>\n",
       "      <td>Cities</td>\n",
       "      <td>Established</td>\n",
       "      <td>Population[upper-alpha 1][1]</td>\n",
       "      <td>Total area[2]</td>\n",
       "      <td>Land area[2]</td>\n",
       "      <td>Water area[2]</td>\n",
       "      <td>Numberof Reps.</td>\n",
       "      <td>NaN</td>\n",
       "      <td>NaN</td>\n",
       "      <td>NaN</td>\n",
       "      <td>NaN</td>\n",
       "    </tr>\n",
       "    <tr>\n",
       "      <th>1</th>\n",
       "      <td>Capital</td>\n",
       "      <td>Largest[3]</td>\n",
       "      <td>mi2</td>\n",
       "      <td>km2</td>\n",
       "      <td>mi2</td>\n",
       "      <td>km2</td>\n",
       "      <td>mi2</td>\n",
       "      <td>km2</td>\n",
       "      <td>NaN</td>\n",
       "      <td>NaN</td>\n",
       "      <td>NaN</td>\n",
       "      <td>NaN</td>\n",
       "      <td>NaN</td>\n",
       "    </tr>\n",
       "    <tr>\n",
       "      <th>2</th>\n",
       "      <td>Alabama</td>\n",
       "      <td>AL</td>\n",
       "      <td>Montgomery</td>\n",
       "      <td>Birmingham</td>\n",
       "      <td>Dec 14, 1819</td>\n",
       "      <td>4874747</td>\n",
       "      <td>52420</td>\n",
       "      <td>135767</td>\n",
       "      <td>50645</td>\n",
       "      <td>131171.0</td>\n",
       "      <td>1775.0</td>\n",
       "      <td>4597.0</td>\n",
       "      <td>7.0</td>\n",
       "    </tr>\n",
       "    <tr>\n",
       "      <th>3</th>\n",
       "      <td>Alaska</td>\n",
       "      <td>AK</td>\n",
       "      <td>Juneau</td>\n",
       "      <td>Anchorage</td>\n",
       "      <td>Jan 3, 1959</td>\n",
       "      <td>739795</td>\n",
       "      <td>665384</td>\n",
       "      <td>1723337</td>\n",
       "      <td>570641</td>\n",
       "      <td>1477953.0</td>\n",
       "      <td>94743.0</td>\n",
       "      <td>245384.0</td>\n",
       "      <td>1.0</td>\n",
       "    </tr>\n",
       "    <tr>\n",
       "      <th>4</th>\n",
       "      <td>Arizona</td>\n",
       "      <td>AZ</td>\n",
       "      <td>Phoenix</td>\n",
       "      <td>Feb 14, 1912</td>\n",
       "      <td>7016270</td>\n",
       "      <td>113990</td>\n",
       "      <td>295234</td>\n",
       "      <td>113594</td>\n",
       "      <td>294207</td>\n",
       "      <td>396.0</td>\n",
       "      <td>1026.0</td>\n",
       "      <td>9.0</td>\n",
       "      <td>NaN</td>\n",
       "    </tr>\n",
       "  </tbody>\n",
       "</table>\n",
       "</div>"
      ],
      "text/plain": [
       "        0           1           2             3   \\\n",
       "0   Name &        Abbr      Cities   Established   \n",
       "1  Capital  Largest[3]         mi2           km2   \n",
       "2  Alabama          AL  Montgomery    Birmingham   \n",
       "3   Alaska          AK      Juneau     Anchorage   \n",
       "4  Arizona          AZ     Phoenix  Feb 14, 1912   \n",
       "\n",
       "                             4              5             6              7   \\\n",
       "0  Population[upper-alpha 1][1]  Total area[2]  Land area[2]  Water area[2]   \n",
       "1                           mi2            km2           mi2            km2   \n",
       "2                  Dec 14, 1819        4874747         52420         135767   \n",
       "3                   Jan 3, 1959         739795        665384        1723337   \n",
       "4                       7016270         113990        295234         113594   \n",
       "\n",
       "               8          9        10        11   12  \n",
       "0  Numberof Reps.        NaN      NaN       NaN  NaN  \n",
       "1             NaN        NaN      NaN       NaN  NaN  \n",
       "2           50645   131171.0   1775.0    4597.0  7.0  \n",
       "3          570641  1477953.0  94743.0  245384.0  1.0  \n",
       "4          294207      396.0   1026.0       9.0  NaN  "
      ]
     },
     "execution_count": 11,
     "metadata": {},
     "output_type": "execute_result"
    }
   ],
   "source": [
    "usa_states = usa_states[0]\n",
    "usa_states.head()"
   ]
  },
  {
   "cell_type": "markdown",
   "metadata": {},
   "source": [
    "Okay, this is rather messy because of the formatting of the original table. We have some cleaning to do. The headers (column names) are spread over two rows and the population count can be in one of two columns, depending on what happened to the left. Patterns that helps us here is that the population count is the first numeric-only column and it's in column 4 (at the earliest, if the capital city is also the largest city) or column 5."
   ]
  },
  {
   "cell_type": "code",
   "execution_count": 12,
   "metadata": {},
   "outputs": [],
   "source": [
    "# define a convenient function that plucks out the population count from each row\n",
    "def extract_population(row):\n",
    "    import re\n",
    "    return(row[4] if re.match('\\d+', row[4]) else row[5])"
   ]
  },
  {
   "cell_type": "code",
   "execution_count": 13,
   "metadata": {},
   "outputs": [],
   "source": [
    "# get rid of the first two rows and we aren't concerned with anything after the fifth column\n",
    "usa_states_popn = usa_states.iloc[2:, :6]\n",
    "usa_states_popn.iloc[:, 4] = usa_states_popn.apply(lambda x: extract_population(x), axis=1)\n",
    "usa_states_popn = usa_states_popn.iloc[:, [1, 4]].reset_index(drop=True)\n",
    "usa_states_popn.columns = ['state', 'population']\n",
    "usa_states_popn['population'] = pd.to_numeric(usa_states_popn['population'])"
   ]
  },
  {
   "cell_type": "code",
   "execution_count": 14,
   "metadata": {},
   "outputs": [
    {
     "data": {
      "text/plain": [
       "(50, 2)"
      ]
     },
     "execution_count": 14,
     "metadata": {},
     "output_type": "execute_result"
    }
   ],
   "source": [
    "usa_states_popn.shape"
   ]
  },
  {
   "cell_type": "code",
   "execution_count": 15,
   "metadata": {},
   "outputs": [
    {
     "data": {
      "text/html": [
       "<div>\n",
       "<style scoped>\n",
       "    .dataframe tbody tr th:only-of-type {\n",
       "        vertical-align: middle;\n",
       "    }\n",
       "\n",
       "    .dataframe tbody tr th {\n",
       "        vertical-align: top;\n",
       "    }\n",
       "\n",
       "    .dataframe thead th {\n",
       "        text-align: right;\n",
       "    }\n",
       "</style>\n",
       "<table border=\"1\" class=\"dataframe\">\n",
       "  <thead>\n",
       "    <tr style=\"text-align: right;\">\n",
       "      <th></th>\n",
       "      <th>state</th>\n",
       "      <th>population</th>\n",
       "    </tr>\n",
       "  </thead>\n",
       "  <tbody>\n",
       "    <tr>\n",
       "      <th>0</th>\n",
       "      <td>AL</td>\n",
       "      <td>4874747</td>\n",
       "    </tr>\n",
       "    <tr>\n",
       "      <th>1</th>\n",
       "      <td>AK</td>\n",
       "      <td>739795</td>\n",
       "    </tr>\n",
       "    <tr>\n",
       "      <th>2</th>\n",
       "      <td>AZ</td>\n",
       "      <td>7016270</td>\n",
       "    </tr>\n",
       "    <tr>\n",
       "      <th>3</th>\n",
       "      <td>AR</td>\n",
       "      <td>3004279</td>\n",
       "    </tr>\n",
       "    <tr>\n",
       "      <th>4</th>\n",
       "      <td>CA</td>\n",
       "      <td>39536653</td>\n",
       "    </tr>\n",
       "  </tbody>\n",
       "</table>\n",
       "</div>"
      ],
      "text/plain": [
       "  state  population\n",
       "0    AL     4874747\n",
       "1    AK      739795\n",
       "2    AZ     7016270\n",
       "3    AR     3004279\n",
       "4    CA    39536653"
      ]
     },
     "execution_count": 15,
     "metadata": {},
     "output_type": "execute_result"
    }
   ],
   "source": [
    "usa_states_popn.head()"
   ]
  },
  {
   "cell_type": "markdown",
   "metadata": {},
   "source": [
    "## Combining the data - what states do we have and not have?"
   ]
  },
  {
   "cell_type": "code",
   "execution_count": 16,
   "metadata": {},
   "outputs": [
    {
     "name": "stdout",
     "output_type": "stream",
     "text": [
      "{'XWY', 'XGL', 'OH', 'WA', 'NM', 'AR', 'ON', 'BC', 'TN', 'AK', 'NJ', 'VT', 'SC', 'CA', 'TX', 'DOW', 'FL', 'CT', 'XGM', 'AL', 'AB', 'AZ', 'NE', 'GA', 'PA', 'WI', 'NC', 'IL', 'CON', 'QC', 'BAS', 'NY', 'VA', 'NV', 'UT', 'DUR'}\n"
     ]
    }
   ],
   "source": [
    "business_states = business['state'].drop_duplicates().reset_index(drop=True)\n",
    "business_states = set(business_states)\n",
    "print(business_states)"
   ]
  },
  {
   "cell_type": "code",
   "execution_count": 17,
   "metadata": {},
   "outputs": [],
   "source": [
    "all_usa_states = set(usa_states_popn.state)"
   ]
  },
  {
   "cell_type": "markdown",
   "metadata": {},
   "source": [
    "### States we have"
   ]
  },
  {
   "cell_type": "code",
   "execution_count": 18,
   "metadata": {},
   "outputs": [],
   "source": [
    "states_we_have = all_usa_states & business_states\n",
    "n_states_we_have = len(states_we_have)"
   ]
  },
  {
   "cell_type": "code",
   "execution_count": 19,
   "metadata": {},
   "outputs": [
    {
     "name": "stdout",
     "output_type": "stream",
     "text": [
      "We have the 25 states:\n",
      "{'OH', 'WA', 'NM', 'AR', 'TN', 'AK', 'NJ', 'VT', 'SC', 'CA', 'TX', 'CT', 'FL', 'AL', 'AZ', 'NE', 'GA', 'PA', 'WI', 'NC', 'IL', 'NY', 'VA', 'NV', 'UT'}\n"
     ]
    }
   ],
   "source": [
    "print('We have the '+str(n_states_we_have)+' states:')\n",
    "print(states_we_have)"
   ]
  },
  {
   "cell_type": "markdown",
   "metadata": {},
   "source": [
    "### States we don't have"
   ]
  },
  {
   "cell_type": "code",
   "execution_count": 20,
   "metadata": {},
   "outputs": [],
   "source": [
    "states_not_have = all_usa_states - business_states\n",
    "n_states_not_have = len(states_not_have)"
   ]
  },
  {
   "cell_type": "code",
   "execution_count": 21,
   "metadata": {},
   "outputs": [
    {
     "name": "stdout",
     "output_type": "stream",
     "text": [
      "We do not have the 25 states:\n",
      "{'IN', 'KS', 'LA', 'DE', 'MT', 'OR', 'IA', 'MO', 'CO', 'HI', 'MS', 'KY', 'MI', 'ND', 'ID', 'ME', 'WY', 'MN', 'SD', 'MA', 'MD', 'OK', 'RI', 'NH', 'WV'}\n"
     ]
    }
   ],
   "source": [
    "print('We do not have the '+str(n_states_not_have)+' states:')\n",
    "print(states_not_have)"
   ]
  },
  {
   "cell_type": "markdown",
   "metadata": {},
   "source": [
    "### States we have that we don't want (non-USA)"
   ]
  },
  {
   "cell_type": "code",
   "execution_count": 22,
   "metadata": {},
   "outputs": [],
   "source": [
    "extra_states = business_states - all_usa_states\n",
    "n_extra_states = len(extra_states)"
   ]
  },
  {
   "cell_type": "code",
   "execution_count": 23,
   "metadata": {},
   "outputs": [
    {
     "name": "stdout",
     "output_type": "stream",
     "text": [
      "Extra states in the business data are the 11 states:\n",
      "{'BAS', 'XGM', 'AB', 'XWY', 'DUR', 'XGL', 'QC', 'CON', 'DOW', 'ON', 'BC'}\n"
     ]
    }
   ],
   "source": [
    "print('Extra states in the business data are the ' + str(n_extra_states) + ' states:')\n",
    "print(extra_states)"
   ]
  },
  {
   "cell_type": "markdown",
   "metadata": {},
   "source": [
    "* Do you recognise these other two-character states?\n",
    "* What does this tell you about the information on the yelp website?"
   ]
  },
  {
   "cell_type": "markdown",
   "metadata": {},
   "source": [
    "QC is Quebec, AB is Alberta, BC is British Colombia, and ON is Ontario. So we have Canada in here as well as USA and those few from UK. This tells us the statement on the website is not totally accurate. You should always validate what you are told about data!"
   ]
  },
  {
   "cell_type": "markdown",
   "metadata": {},
   "source": [
    "## Take stock of the data we have"
   ]
  },
  {
   "cell_type": "markdown",
   "metadata": {},
   "source": [
    "* Think about the picture we have of our data\n",
    "    * What does it contain?\n",
    "    * What is it lacking?\n",
    "    * Does this make us wary about using it?"
   ]
  },
  {
   "cell_type": "markdown",
   "metadata": {},
   "source": [
    "We know we only have 25 of the 50 states. We have also seen that of the 25 we have, the number of reviews is very unequal and many of those states only have 1 or 2 reviews. Therefore we probably don't have a random sample. This should make us wary about drawing inferences about the population. Even for the states we seem to have quite a bit of review data on, those reviews may not have been randomly drawn from those states!"
   ]
  },
  {
   "cell_type": "markdown",
   "metadata": {},
   "source": [
    "## Filter and keep just USA states with at least 1000 reviewed businesses"
   ]
  },
  {
   "cell_type": "markdown",
   "metadata": {},
   "source": [
    "Recall we previously calculated the number of reviewed businesses per state. We'll filter at the level of 1000 businesses per state as below that count we dropped to only a handful of businesses."
   ]
  },
  {
   "cell_type": "code",
   "execution_count": 24,
   "metadata": {},
   "outputs": [],
   "source": [
    "reviewed_states = set(states_counts.loc[states_counts.business_count > 1000, 'state'])"
   ]
  },
  {
   "cell_type": "code",
   "execution_count": 25,
   "metadata": {},
   "outputs": [
    {
     "data": {
      "text/plain": [
       "{'AZ', 'IL', 'NC', 'NV', 'OH', 'PA', 'SC', 'WI'}"
      ]
     },
     "execution_count": 25,
     "metadata": {},
     "output_type": "execute_result"
    }
   ],
   "source": [
    "all_usa_states & reviewed_states"
   ]
  },
  {
   "cell_type": "code",
   "execution_count": 26,
   "metadata": {},
   "outputs": [
    {
     "data": {
      "text/plain": [
       "(141879, 14)"
      ]
     },
     "execution_count": 26,
     "metadata": {},
     "output_type": "execute_result"
    }
   ],
   "source": [
    "usa_business = business.loc[business.state.isin(all_usa_states & reviewed_states), :]\n",
    "usa_business.shape"
   ]
  },
  {
   "cell_type": "markdown",
   "metadata": {},
   "source": [
    "So we've filtered our 192609 rows down to just the 141879 associated with the states in USA where there were at least 1000 reviewed businesses."
   ]
  },
  {
   "cell_type": "markdown",
   "metadata": {},
   "source": [
    "## Business categories"
   ]
  },
  {
   "cell_type": "markdown",
   "metadata": {},
   "source": [
    "We will want to know what category our businesses are. How many of our businesses in the USA in this dataset do not have any category associated with them?"
   ]
  },
  {
   "cell_type": "code",
   "execution_count": 27,
   "metadata": {},
   "outputs": [
    {
     "data": {
      "text/plain": [
       "368"
      ]
     },
     "execution_count": 27,
     "metadata": {},
     "output_type": "execute_result"
    }
   ],
   "source": [
    "sum(usa_business.categories.isnull())"
   ]
  },
  {
   "cell_type": "markdown",
   "metadata": {},
   "source": [
    "* display the first few entries with no category"
   ]
  },
  {
   "cell_type": "code",
   "execution_count": 28,
   "metadata": {},
   "outputs": [
    {
     "data": {
      "text/html": [
       "<div>\n",
       "<style scoped>\n",
       "    .dataframe tbody tr th:only-of-type {\n",
       "        vertical-align: middle;\n",
       "    }\n",
       "\n",
       "    .dataframe tbody tr th {\n",
       "        vertical-align: top;\n",
       "    }\n",
       "\n",
       "    .dataframe thead th {\n",
       "        text-align: right;\n",
       "    }\n",
       "</style>\n",
       "<table border=\"1\" class=\"dataframe\">\n",
       "  <thead>\n",
       "    <tr style=\"text-align: right;\">\n",
       "      <th></th>\n",
       "      <th>address</th>\n",
       "      <th>attributes</th>\n",
       "      <th>business_id</th>\n",
       "      <th>categories</th>\n",
       "      <th>city</th>\n",
       "      <th>hours</th>\n",
       "      <th>is_open</th>\n",
       "      <th>latitude</th>\n",
       "      <th>longitude</th>\n",
       "      <th>name</th>\n",
       "      <th>postal_code</th>\n",
       "      <th>review_count</th>\n",
       "      <th>stars</th>\n",
       "      <th>state</th>\n",
       "    </tr>\n",
       "  </thead>\n",
       "  <tbody>\n",
       "    <tr>\n",
       "      <th>265</th>\n",
       "      <td>6340 E Thomas Rd</td>\n",
       "      <td>None</td>\n",
       "      <td>xOR85RicYj642O3_iJ7hgg</td>\n",
       "      <td>None</td>\n",
       "      <td>Scottsdale</td>\n",
       "      <td>None</td>\n",
       "      <td>1</td>\n",
       "      <td>33.480373</td>\n",
       "      <td>-111.945650</td>\n",
       "      <td>Phoenix Valuations</td>\n",
       "      <td>85251</td>\n",
       "      <td>3</td>\n",
       "      <td>3.5</td>\n",
       "      <td>AZ</td>\n",
       "    </tr>\n",
       "    <tr>\n",
       "      <th>1020</th>\n",
       "      <td>995 Greentree Rd</td>\n",
       "      <td>None</td>\n",
       "      <td>llG2YxnevtFhW7LVa4QJXQ</td>\n",
       "      <td>None</td>\n",
       "      <td>Pittsburgh</td>\n",
       "      <td>None</td>\n",
       "      <td>1</td>\n",
       "      <td>40.417374</td>\n",
       "      <td>-80.044817</td>\n",
       "      <td>Highfield Open Mri</td>\n",
       "      <td>15220</td>\n",
       "      <td>5</td>\n",
       "      <td>2.0</td>\n",
       "      <td>PA</td>\n",
       "    </tr>\n",
       "    <tr>\n",
       "      <th>1332</th>\n",
       "      <td>1816 W Pointe Dr, Ste C</td>\n",
       "      <td>None</td>\n",
       "      <td>zi2CV7isWyGRxVXJxdDQXg</td>\n",
       "      <td>None</td>\n",
       "      <td>Charlotte</td>\n",
       "      <td>None</td>\n",
       "      <td>1</td>\n",
       "      <td>35.257508</td>\n",
       "      <td>-80.972256</td>\n",
       "      <td>Ceva Freight</td>\n",
       "      <td>28214</td>\n",
       "      <td>3</td>\n",
       "      <td>1.5</td>\n",
       "      <td>NC</td>\n",
       "    </tr>\n",
       "    <tr>\n",
       "      <th>2399</th>\n",
       "      <td>1724 W 10th Pl</td>\n",
       "      <td>None</td>\n",
       "      <td>AEpvBhxrmHJud4UgvF2yWw</td>\n",
       "      <td>None</td>\n",
       "      <td>Tempe</td>\n",
       "      <td>None</td>\n",
       "      <td>1</td>\n",
       "      <td>33.418006</td>\n",
       "      <td>-111.967930</td>\n",
       "      <td>Poolsaz</td>\n",
       "      <td>85281</td>\n",
       "      <td>4</td>\n",
       "      <td>1.0</td>\n",
       "      <td>AZ</td>\n",
       "    </tr>\n",
       "    <tr>\n",
       "      <th>2909</th>\n",
       "      <td>3434 Kier Rd</td>\n",
       "      <td>None</td>\n",
       "      <td>AMhPJSh9S6Qz9Q3DuwPgtA</td>\n",
       "      <td>None</td>\n",
       "      <td>North Las Vegas</td>\n",
       "      <td>None</td>\n",
       "      <td>1</td>\n",
       "      <td>36.229056</td>\n",
       "      <td>-115.101768</td>\n",
       "      <td>Amerigas</td>\n",
       "      <td>89030</td>\n",
       "      <td>4</td>\n",
       "      <td>1.0</td>\n",
       "      <td>NV</td>\n",
       "    </tr>\n",
       "  </tbody>\n",
       "</table>\n",
       "</div>"
      ],
      "text/plain": [
       "                      address attributes             business_id categories  \\\n",
       "265          6340 E Thomas Rd       None  xOR85RicYj642O3_iJ7hgg       None   \n",
       "1020         995 Greentree Rd       None  llG2YxnevtFhW7LVa4QJXQ       None   \n",
       "1332  1816 W Pointe Dr, Ste C       None  zi2CV7isWyGRxVXJxdDQXg       None   \n",
       "2399           1724 W 10th Pl       None  AEpvBhxrmHJud4UgvF2yWw       None   \n",
       "2909             3434 Kier Rd       None  AMhPJSh9S6Qz9Q3DuwPgtA       None   \n",
       "\n",
       "                 city hours  is_open   latitude   longitude  \\\n",
       "265        Scottsdale  None        1  33.480373 -111.945650   \n",
       "1020       Pittsburgh  None        1  40.417374  -80.044817   \n",
       "1332        Charlotte  None        1  35.257508  -80.972256   \n",
       "2399            Tempe  None        1  33.418006 -111.967930   \n",
       "2909  North Las Vegas  None        1  36.229056 -115.101768   \n",
       "\n",
       "                    name postal_code  review_count  stars state  \n",
       "265   Phoenix Valuations       85251             3    3.5    AZ  \n",
       "1020  Highfield Open Mri       15220             5    2.0    PA  \n",
       "1332        Ceva Freight       28214             3    1.5    NC  \n",
       "2399             Poolsaz       85281             4    1.0    AZ  \n",
       "2909            Amerigas       89030             4    1.0    NV  "
      ]
     },
     "execution_count": 28,
     "metadata": {},
     "output_type": "execute_result"
    }
   ],
   "source": [
    "usa_business.loc[usa_business.categories.isnull(), :].head()"
   ]
  },
  {
   "cell_type": "markdown",
   "metadata": {},
   "source": [
    "As you can see, we have the location and name for such businesses, but don't know much else about them. These 368 aren't very useful to us and only represent a small fraction of our data so we'll drop them."
   ]
  },
  {
   "cell_type": "code",
   "execution_count": 29,
   "metadata": {},
   "outputs": [],
   "source": [
    "usa_business = usa_business.loc[~usa_business.categories.isnull(), :]"
   ]
  },
  {
   "cell_type": "markdown",
   "metadata": {},
   "source": [
    "* is the business id unique?"
   ]
  },
  {
   "cell_type": "code",
   "execution_count": 30,
   "metadata": {},
   "outputs": [
    {
     "data": {
      "text/plain": [
       "0"
      ]
     },
     "execution_count": 30,
     "metadata": {},
     "output_type": "execute_result"
    }
   ],
   "source": [
    "sum(usa_business.business_id.value_counts() > 1)"
   ]
  },
  {
   "cell_type": "markdown",
   "metadata": {},
   "source": [
    "## Save our desired data to file (CSV)"
   ]
  },
  {
   "cell_type": "code",
   "execution_count": 31,
   "metadata": {},
   "outputs": [],
   "source": [
    "usa_business.to_csv('usa_businesses.csv', index=False)\n",
    "usa_states_popn.to_csv('usa_population.csv', index=False)"
   ]
  },
  {
   "cell_type": "markdown",
   "metadata": {},
   "source": [
    "# Summary"
   ]
  },
  {
   "cell_type": "markdown",
   "metadata": {},
   "source": [
    "In part 1, we've:\n",
    "* downloaded and uncompressed some data\n",
    "* read a json file into a pandas DataFrame\n",
    "* had a very basic look at it\n",
    "    * its shape/size\n",
    "    * some sample rows\n",
    "    * some rows with odd three-character state abbreviations (filtering rows and columns)\n",
    "* pulled a definitive list of USA states from the web\n",
    "* and cleaned it\n",
    "    * the population counts we wanted weren't in a single column\n",
    "    * the first two rows were not data\n",
    "* and extracted the desired columns and rows from it\n",
    "* and then used this to perform some more basic checking of what was present in the data\n",
    "    * calculating how many USA states we have\n",
    "    * how many we don't\n",
    "    * and realised that the data also covers Canada\n",
    "* having filtered to keep just the businesses in the USA\n",
    "    * written to file the filtered business data\n",
    "    * along with our data of USA state populations"
   ]
  },
  {
   "cell_type": "code",
   "execution_count": null,
   "metadata": {},
   "outputs": [],
   "source": []
  }
 ],
 "metadata": {
  "kernelspec": {
   "display_name": "Python [conda env:base_geo]",
   "language": "python",
   "name": "conda-env-base_geo-py"
  },
  "language_info": {
   "codemirror_mode": {
    "name": "ipython",
    "version": 3
   },
   "file_extension": ".py",
   "mimetype": "text/x-python",
   "name": "python",
   "nbconvert_exporter": "python",
   "pygments_lexer": "ipython3",
   "version": "3.7.1"
  }
 },
 "nbformat": 4,
 "nbformat_minor": 2
}
